{
 "cells": [
  {
   "cell_type": "markdown",
   "metadata": {},
   "source": [
    "# Fisheye camera calibration for OpenVSLAM"
   ]
  },
  {
   "cell_type": "code",
   "execution_count": null,
   "metadata": {},
   "outputs": [],
   "source": [
    "import numpy as np\n",
    "import cv2\n",
    "import matplotlib.pyplot as plt\n",
    "import time\n",
    "import sys\n",
    "import os\n",
    "from os.path import join\n",
    "import yaml\n",
    "import glob\n",
    "from functools import partial\n",
    "\n",
    "%matplotlib inline"
   ]
  },
  {
   "cell_type": "code",
   "execution_count": null,
   "metadata": {},
   "outputs": [],
   "source": [
    "from ocamcamera import OcamCamera\n",
    "# pip install ocamcamera"
   ]
  },
  {
   "cell_type": "code",
   "execution_count": null,
   "metadata": {},
   "outputs": [],
   "source": [
    "Ts = []"
   ]
  },
  {
   "cell_type": "markdown",
   "metadata": {},
   "source": [
    "# Calib image\n",
    "\n",
    "## Select pattern type first"
   ]
  },
  {
   "cell_type": "code",
   "execution_count": null,
   "metadata": {},
   "outputs": [],
   "source": [
    "# load_folder = './img20191027-2136/'\n",
    "load_folder = './img20191027-2312/'\n",
    "print('load folder:', load_folder)"
   ]
  },
  {
   "cell_type": "code",
   "execution_count": null,
   "metadata": {
    "ExecuteTime": {
     "end_time": "2019-09-05T07:21:35.349704Z",
     "start_time": "2019-09-05T07:21:35.140878Z"
    }
   },
   "outputs": [],
   "source": [
    "import glob\n",
    "import numpy as np\n",
    "import cv2\n",
    "import matplotlib.pyplot as plt\n",
    "import time\n",
    "%matplotlib inline\n",
    "\n",
    "# images = []\n",
    "# for fname in sorted(glob.glob('{}/*.jpg'.format(load_folder))):\n",
    "#     img = cv2.imread(fname)\n",
    "#     images.append(img)\n",
    "#     print(fname)"
   ]
  },
  {
   "cell_type": "code",
   "execution_count": null,
   "metadata": {},
   "outputs": [],
   "source": [
    "# Find pattern\n",
    "subpix_criteria = (cv2.TERM_CRITERIA_EPS+cv2.TERM_CRITERIA_MAX_ITER, 30, 0.1)\n",
    "pattern_size = (6,9)\n",
    "detect_flag = cv2.CALIB_CB_ADAPTIVE_THRESH+cv2.CALIB_CB_NORMALIZE_IMAGE # cv2.CALIB_CB_FAST_CHECK+\n",
    "findCorners = partial(cv2.findChessboardCorners, patternSize=pattern_size, flags=detect_flag)\n",
    "\n",
    "pattern_points = []\n",
    "pattern_m = 0.2\n",
    "for j in range(pattern_size[1]):\n",
    "    for i in range(pattern_size[0]):\n",
    "        pattern_points.append([0.2*j, 0.2*i, 0])\n",
    "pattern_points = np.array(pattern_points)"
   ]
  },
  {
   "cell_type": "code",
   "execution_count": null,
   "metadata": {
    "ExecuteTime": {
     "end_time": "2019-09-05T07:21:36.393050Z",
     "start_time": "2019-09-05T07:21:36.388729Z"
    }
   },
   "outputs": [],
   "source": [
    "%matplotlib inline\n",
    "# check first image\n",
    "cam_idx = 0\n",
    "\n",
    "ocam_file = f\"{load_folder}/calib_results_{cam_idx}.txt\"\n",
    "ocam = OcamCamera(ocam_file)\n",
    "img_file = f\"{load_folder}/img{cam_idx}.jpg\"\n",
    "img = cv2.imread(img_file)\n",
    "print(f\"Load {img_file} and {ocam_file}\")\n",
    "gray = cv2.cvtColor(img,cv2.COLOR_BGR2GRAY)\n",
    "# Find the chess board corners\n",
    "ret, corners = findCorners(gray)\n",
    "\n",
    "if ret:\n",
    "    cv2.cornerSubPix(gray,corners,(3,3),(-1,-1),subpix_criteria)\n",
    "    cv2.drawChessboardCorners(img, pattern_size, corners, ret) \n",
    "    x_max, y_max = np.max(corners, axis=0)[0]\n",
    "    x_min, y_min = np.min(corners, axis=0)[0]\n",
    "    offset = 50\n",
    "    x_max = int(x_max)+offset\n",
    "    x_min = int(x_min)-offset\n",
    "    y_max = int(y_max)+offset\n",
    "    y_min = int(y_min)-offset\n",
    "    fig, ax = plt.subplots(1, 2, figsize=(15,8))\n",
    "    ax[0].imshow(img[y_min:y_max,x_min:x_max,::-1])\n",
    "    ax[1].imshow(img[:,:,::-1])\n",
    "else:\n",
    "    print(\"couldn't find corner\")"
   ]
  },
  {
   "cell_type": "code",
   "execution_count": null,
   "metadata": {},
   "outputs": [],
   "source": [
    "dir_world = ocam.cam2world(corners.squeeze().T)\n",
    "undist_pts = dir_world[:2]/dir_world[2]\n",
    "undist_pts = undist_pts.T[:, None, :]\n",
    "ret, rvecs, tvecs = cv2.solvePnP(pattern_points[:, None, :], undist_pts, np.eye(3), np.zeros((5,1)), flags=cv2.SOLVEPNP_IPPE)"
   ]
  },
  {
   "cell_type": "code",
   "execution_count": null,
   "metadata": {},
   "outputs": [],
   "source": [
    "T = np.eye(4)\n",
    "R = cv2.Rodrigues(rvecs)[0]\n",
    "T[:3,:3] = R\n",
    "T[:3, 3] = tvecs.squeeze()\n",
    "\n",
    "T = np.linalg.inv(T)"
   ]
  },
  {
   "cell_type": "code",
   "execution_count": null,
   "metadata": {},
   "outputs": [],
   "source": [
    "Ts.append(T)"
   ]
  },
  {
   "cell_type": "code",
   "execution_count": null,
   "metadata": {},
   "outputs": [],
   "source": [
    "import matplotlib\n",
    "import matplotlib.pyplot as plt\n",
    "from matplotlib import animation\n",
    "from mpl_toolkits.mplot3d import Axes3D"
   ]
  },
  {
   "cell_type": "code",
   "execution_count": null,
   "metadata": {},
   "outputs": [],
   "source": [
    "def drawAxis(T=np.eye(4) ,scale=0.3, colors=['r', 'g', 'b']):\n",
    "    tvec = T[:3,3]\n",
    "    R = T[:3,:3]\n",
    "    start = tvec.flatten()[np.newaxis].repeat(3, axis=0)\n",
    "    end = start + scale * R.T\n",
    "    for s, e, c in zip(start, end, colors):\n",
    "        ax.plot([s[0], e[0]], [s[1], e[1]], [s[2], e[2]], c=c)\n",
    "        \n",
    "%matplotlib notebook"
   ]
  },
  {
   "cell_type": "code",
   "execution_count": null,
   "metadata": {},
   "outputs": [],
   "source": [
    "# 3D Plot\n",
    "fig = plt.figure(figsize=(8, 6))\n",
    "ax = Axes3D(fig)\n",
    "ax.set_xlabel('X')\n",
    "ax.set_ylabel('Y')\n",
    "ax.set_zlabel('Z')\n",
    "#ax.axis('off')\n",
    "c = ['c', 'y', 'b', 'b']\n",
    "\n",
    "# Camera\n",
    "# drawAxis(T, 0.3, colors)\n",
    "for i in range(len(Ts)):\n",
    "    colors = ['r', 'g', c[i]]\n",
    "    drawAxis(Ts[i], 0.3, colors)\n",
    "    \n",
    "# tag\n",
    "ax.scatter(pattern_points[:, 0], pattern_points[:, 1], zs=pattern_points[:, 2])\n",
    "\n",
    "# Origin\n",
    "drawAxis(scale=0.15)\n",
    "\n",
    "# adjust scale\n",
    "start = np.zeros((3, 3)) - 0.5\n",
    "end = start + 5 * np.eye(3)\n",
    "for s, e in zip(start, end):\n",
    "    ax.plot([s[0], e[0]], [s[1], e[1]], [s[2], e[2]], c='none')"
   ]
  },
  {
   "cell_type": "code",
   "execution_count": null,
   "metadata": {},
   "outputs": [],
   "source": [
    "T01 = np.linalg.inv(Ts[0]).dot(Ts[1])\n",
    "T01"
   ]
  },
  {
   "cell_type": "code",
   "execution_count": null,
   "metadata": {},
   "outputs": [],
   "source": [
    "T01[:3, 3]/np.linalg.norm(T01[:3, 3])"
   ]
  },
  {
   "cell_type": "code",
   "execution_count": null,
   "metadata": {},
   "outputs": [],
   "source": []
  }
 ],
 "metadata": {
  "kernelspec": {
   "display_name": "Python 3",
   "language": "python",
   "name": "python3"
  },
  "language_info": {
   "codemirror_mode": {
    "name": "ipython",
    "version": 3
   },
   "file_extension": ".py",
   "mimetype": "text/x-python",
   "name": "python",
   "nbconvert_exporter": "python",
   "pygments_lexer": "ipython3",
   "version": "3.7.9"
  },
  "toc": {
   "base_numbering": 1,
   "nav_menu": {},
   "number_sections": true,
   "sideBar": true,
   "skip_h1_title": false,
   "title_cell": "Table of Contents",
   "title_sidebar": "Contents",
   "toc_cell": false,
   "toc_position": {},
   "toc_section_display": true,
   "toc_window_display": false
  }
 },
 "nbformat": 4,
 "nbformat_minor": 2
}
